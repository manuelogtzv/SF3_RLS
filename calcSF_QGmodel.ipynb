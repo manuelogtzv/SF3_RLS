{
 "cells": [
  {
   "cell_type": "code",
   "execution_count": 1,
   "id": "4d99b422",
   "metadata": {},
   "outputs": [],
   "source": [
    "import numpy as np\n",
    "import xarray as xr\n",
    "import matplotlib.pyplot as plt\n",
    "import pyqg\n",
    "import pyqg.diagnostic_tools\n",
    "from strucFunct import *\n",
    "%matplotlib inline\n",
    "\n",
    "from dask.diagnostics import ProgressBar"
   ]
  },
  {
   "cell_type": "markdown",
   "id": "ec9698fb",
   "metadata": {},
   "source": [
    "# Saves snapshots of model variables at sampling_freq"
   ]
  },
  {
   "cell_type": "code",
   "execution_count": 2,
   "id": "9221da56",
   "metadata": {},
   "outputs": [],
   "source": [
    "def run_simulation(m, sampling_freq):\n",
    "    \"\"\"\n",
    "    m: pyqg model object\n",
    "    sampling_freq: frequency in numerical timesteps in which to extract dataset\n",
    "    \"\"\"\n",
    "    snapshots = []\n",
    "    while eddy_model.t < eddy_model.tmax:\n",
    "        if eddy_model.tc % sampling_freq == 0:\n",
    "            ds=eddy_model.to_dataset().copy(deep=True)\n",
    "            snapshots.append(ds)\n",
    "        eddy_model._step_forward()\n",
    "    return snapshots"
   ]
  },
  {
   "cell_type": "code",
   "execution_count": null,
   "id": "4007dd13",
   "metadata": {},
   "outputs": [
    {
     "ename": "RuntimeError",
     "evalue": "Undefined plan with nthreads. This is a bug",
     "output_type": "error",
     "traceback": [
      "\u001b[0;31m---------------------------------------------------------------------------\u001b[0m",
      "\u001b[0;31mRuntimeError\u001b[0m                              Traceback (most recent call last)",
      "\u001b[0;31mRuntimeError\u001b[0m: Undefined plan with nthreads. This is a bug"
     ]
    },
    {
     "name": "stderr",
     "output_type": "stream",
     "text": [
      "Exception ignored in: 'pyfftw.pyfftw._fftw_plan_with_nthreads_null'\n",
      "Traceback (most recent call last):\n",
      "  File \"/home/mog002/miniconda3/envs/pygmt/lib/python3.11/site-packages/pyqg/model.py\", line 216, in __init__\n",
      "    PseudoSpectralKernel.__init__(self, nz, ny, nx, ntd,\n",
      "RuntimeError: Undefined plan with nthreads. This is a bug\n"
     ]
    },
    {
     "ename": "RuntimeError",
     "evalue": "Undefined plan with nthreads. This is a bug",
     "output_type": "error",
     "traceback": [
      "\u001b[0;31m---------------------------------------------------------------------------\u001b[0m",
      "\u001b[0;31mRuntimeError\u001b[0m                              Traceback (most recent call last)",
      "\u001b[0;31mRuntimeError\u001b[0m: Undefined plan with nthreads. This is a bug"
     ]
    },
    {
     "name": "stderr",
     "output_type": "stream",
     "text": [
      "Exception ignored in: 'pyfftw.pyfftw._fftw_plan_with_nthreads_null'\n",
      "Traceback (most recent call last):\n",
      "  File \"/home/mog002/miniconda3/envs/pygmt/lib/python3.11/site-packages/pyqg/model.py\", line 216, in __init__\n",
      "    PseudoSpectralKernel.__init__(self, nz, ny, nx, ntd,\n",
      "RuntimeError: Undefined plan with nthreads. This is a bug\n"
     ]
    },
    {
     "ename": "RuntimeError",
     "evalue": "Undefined plan with nthreads. This is a bug",
     "output_type": "error",
     "traceback": [
      "\u001b[0;31m---------------------------------------------------------------------------\u001b[0m",
      "\u001b[0;31mRuntimeError\u001b[0m                              Traceback (most recent call last)",
      "\u001b[0;31mRuntimeError\u001b[0m: Undefined plan with nthreads. This is a bug"
     ]
    },
    {
     "name": "stderr",
     "output_type": "stream",
     "text": [
      "Exception ignored in: 'pyfftw.pyfftw._fftw_plan_with_nthreads_null'\n",
      "Traceback (most recent call last):\n",
      "  File \"/home/mog002/miniconda3/envs/pygmt/lib/python3.11/site-packages/pyqg/model.py\", line 216, in __init__\n",
      "    PseudoSpectralKernel.__init__(self, nz, ny, nx, ntd,\n",
      "RuntimeError: Undefined plan with nthreads. This is a bug\n"
     ]
    },
    {
     "ename": "RuntimeError",
     "evalue": "Undefined plan with nthreads. This is a bug",
     "output_type": "error",
     "traceback": [
      "\u001b[0;31m---------------------------------------------------------------------------\u001b[0m",
      "\u001b[0;31mRuntimeError\u001b[0m                              Traceback (most recent call last)",
      "\u001b[0;31mRuntimeError\u001b[0m: Undefined plan with nthreads. This is a bug"
     ]
    },
    {
     "name": "stderr",
     "output_type": "stream",
     "text": [
      "Exception ignored in: 'pyfftw.pyfftw._fftw_plan_with_nthreads_null'\n",
      "Traceback (most recent call last):\n",
      "  File \"/home/mog002/miniconda3/envs/pygmt/lib/python3.11/site-packages/pyqg/model.py\", line 216, in __init__\n",
      "    PseudoSpectralKernel.__init__(self, nz, ny, nx, ntd,\n",
      "RuntimeError: Undefined plan with nthreads. This is a bug\n"
     ]
    },
    {
     "ename": "RuntimeError",
     "evalue": "Undefined plan with nthreads. This is a bug",
     "output_type": "error",
     "traceback": [
      "\u001b[0;31m---------------------------------------------------------------------------\u001b[0m",
      "\u001b[0;31mRuntimeError\u001b[0m                              Traceback (most recent call last)",
      "\u001b[0;31mRuntimeError\u001b[0m: Undefined plan with nthreads. This is a bug"
     ]
    },
    {
     "name": "stderr",
     "output_type": "stream",
     "text": [
      "Exception ignored in: 'pyfftw.pyfftw._fftw_plan_with_nthreads_null'\n",
      "Traceback (most recent call last):\n",
      "  File \"/home/mog002/miniconda3/envs/pygmt/lib/python3.11/site-packages/pyqg/model.py\", line 216, in __init__\n",
      "    PseudoSpectralKernel.__init__(self, nz, ny, nx, ntd,\n",
      "RuntimeError: Undefined plan with nthreads. This is a bug\n"
     ]
    },
    {
     "ename": "RuntimeError",
     "evalue": "Undefined plan with nthreads. This is a bug",
     "output_type": "error",
     "traceback": [
      "\u001b[0;31m---------------------------------------------------------------------------\u001b[0m",
      "\u001b[0;31mRuntimeError\u001b[0m                              Traceback (most recent call last)",
      "\u001b[0;31mRuntimeError\u001b[0m: Undefined plan with nthreads. This is a bug"
     ]
    },
    {
     "name": "stderr",
     "output_type": "stream",
     "text": [
      "Exception ignored in: 'pyfftw.pyfftw._fftw_plan_with_nthreads_null'\n",
      "Traceback (most recent call last):\n",
      "  File \"/home/mog002/miniconda3/envs/pygmt/lib/python3.11/site-packages/pyqg/model.py\", line 216, in __init__\n",
      "    PseudoSpectralKernel.__init__(self, nz, ny, nx, ntd,\n",
      "RuntimeError: Undefined plan with nthreads. This is a bug\n"
     ]
    },
    {
     "ename": "RuntimeError",
     "evalue": "Undefined plan with nthreads. This is a bug",
     "output_type": "error",
     "traceback": [
      "\u001b[0;31m---------------------------------------------------------------------------\u001b[0m",
      "\u001b[0;31mRuntimeError\u001b[0m                              Traceback (most recent call last)",
      "\u001b[0;31mRuntimeError\u001b[0m: Undefined plan with nthreads. This is a bug"
     ]
    },
    {
     "name": "stderr",
     "output_type": "stream",
     "text": [
      "Exception ignored in: 'pyfftw.pyfftw._fftw_plan_with_nthreads_null'\n",
      "Traceback (most recent call last):\n",
      "  File \"/home/mog002/miniconda3/envs/pygmt/lib/python3.11/site-packages/pyqg/model.py\", line 216, in __init__\n",
      "    PseudoSpectralKernel.__init__(self, nz, ny, nx, ntd,\n",
      "RuntimeError: Undefined plan with nthreads. This is a bug\n"
     ]
    },
    {
     "ename": "RuntimeError",
     "evalue": "Undefined plan with nthreads. This is a bug",
     "output_type": "error",
     "traceback": [
      "\u001b[0;31m---------------------------------------------------------------------------\u001b[0m",
      "\u001b[0;31mRuntimeError\u001b[0m                              Traceback (most recent call last)",
      "\u001b[0;31mRuntimeError\u001b[0m: Undefined plan with nthreads. This is a bug"
     ]
    },
    {
     "name": "stderr",
     "output_type": "stream",
     "text": [
      "Exception ignored in: 'pyfftw.pyfftw._fftw_plan_with_nthreads_null'\n",
      "Traceback (most recent call last):\n",
      "  File \"/home/mog002/miniconda3/envs/pygmt/lib/python3.11/site-packages/pyqg/model.py\", line 216, in __init__\n",
      "    PseudoSpectralKernel.__init__(self, nz, ny, nx, ntd,\n",
      "RuntimeError: Undefined plan with nthreads. This is a bug\n",
      "INFO:  Logger initialized\n",
      "INFO: Step: 10000, Time: 3.60e+07, KE: 4.52e-06, CFL: 0.023\n",
      "INFO: Step: 20000, Time: 7.20e+07, KE: 4.44e-04, CFL: 0.174\n",
      "INFO: Step: 30000, Time: 1.08e+08, KE: 5.87e-04, CFL: 0.203\n",
      "INFO: Step: 40000, Time: 1.44e+08, KE: 6.04e-04, CFL: 0.232\n",
      "INFO: Step: 50000, Time: 1.80e+08, KE: 5.93e-04, CFL: 0.209\n"
     ]
    }
   ],
   "source": [
    "# Run with snapshots\n",
    "year = 24*60*60*360. #seconds\n",
    "\n",
    "eddy_model = pyqg.QGModel(nx=256.0,dt=3600.0, tmax=20*year, ntd=1,twrite=10000, \n",
    "                          tavestart=155520000.0, taveint= 86400, \n",
    "                          beta=1.5e-11, rd=15000.0, delta=0.25, \n",
    "                          H1=500, U1=0.025, U2=0.0)\n",
    "\n",
    "# Saves snapshots\n",
    "snaps=run_simulation(eddy_model, 24) # Saves data \n",
    "# Convert to xarray data \n",
    "eddyrun_lev = xr.concat(snaps, dim='time')\n",
    "\n",
    "snap_index=-1\n",
    "cmap=\"bwr\"\n",
    "plt.figure(figsize=(12,6))\n",
    "plt.subplot(2,3,1)\n",
    "plt.title(\"q\")\n",
    "plt.imshow(snaps[snap_index].q[0][0],cmap=cmap)\n",
    "plt.colorbar()\n",
    "plt.subplot(2,3,4)\n",
    "plt.imshow(snaps[snap_index].q[0][1],cmap=cmap)\n",
    "plt.colorbar()\n",
    "plt.subplot(2,3,2)\n",
    "plt.title(\"u\")\n",
    "plt.imshow(snaps[snap_index].u[0][0],cmap=cmap)\n",
    "plt.colorbar()\n",
    "plt.subplot(2,3,5)\n",
    "plt.imshow(snaps[snap_index].u[0][1],cmap=cmap)\n",
    "plt.colorbar()\n",
    "\n",
    "plt.subplot(2,3,3)\n",
    "plt.title(\"v\")\n",
    "plt.imshow(snaps[snap_index].v[0][0],cmap=cmap)\n",
    "plt.colorbar()\n",
    "plt.subplot(2,3,6)\n",
    "plt.imshow(snaps[snap_index].v[0][1],cmap=cmap)\n",
    "plt.colorbar()"
   ]
  },
  {
   "cell_type": "code",
   "execution_count": null,
   "id": "737affde",
   "metadata": {},
   "outputs": [],
   "source": [
    "# Saves\n",
    "eddyrun_lev = eddyrun_lev.drop_vars([\"qh\", \"uh\", \"vh\", \"ph\", \"dqhdt\", \"Ubg\",\"Qy\", \"dqdt\", \"p\", \"ufull\", \"vfull\"])\n",
    "\n",
    "eddyrun_lev.to_netcdf('./QGModelRun10years.nc')"
   ]
  },
  {
   "cell_type": "markdown",
   "id": "28d14533",
   "metadata": {},
   "source": [
    "### Use line below if kernel dies"
   ]
  },
  {
   "cell_type": "code",
   "execution_count": null,
   "id": "f0f3bb8e",
   "metadata": {},
   "outputs": [],
   "source": [
    "# Load data\n",
    "eddyrun_lev = xr.open_dataset('./QGModelRun10years.nc')"
   ]
  },
  {
   "cell_type": "markdown",
   "id": "0f0f1a7c",
   "metadata": {},
   "source": [
    "## Calculates structure functions $\\delta u^n$\n",
    "\n",
    "#### calculateSF: calculates velocity differences $\\delta u = \\mathbf{u(x+r, t)} - \\mathbf{u(x, t)}$ and rotate them to longitudinal and transversal components $\\delta u_{ll}$ and $\\delta u_{tt}$. \n",
    "\n",
    "#### SFbin_xr: calculates structure functions by doing ensemble averages.\n",
    "\n",
    "### Note:\n",
    "\n",
    "#### Due to memory issues and time for code to run, I suggest to run calculateSF and SFbin_xr in two-year chunks. Otherwise, kernel could potentially be killed."
   ]
  },
  {
   "cell_type": "code",
   "execution_count": null,
   "id": "9804ec08",
   "metadata": {},
   "outputs": [],
   "source": [
    "# Calculates structure functions\n",
    "shiftdim = 'x','y'\n",
    "stackdim = \"x\",\"y\",\"dcorr\"\n",
    "maxcorr = 60\n",
    "grid = 'm'\n",
    "\n",
    "rbins = np.arange(1e3, 2e5, 4e3)\n",
    "\n",
    "# Gets last five years of data\n",
    "nyears = 5\n",
    "yr = 365\n",
    "\n",
    "i1 = -2-yr*nyears\n",
    "\n",
    "time3y = np.arange(i1, i1 + yr*nyears)"
   ]
  },
  {
   "cell_type": "code",
   "execution_count": null,
   "id": "7b15a332",
   "metadata": {},
   "outputs": [],
   "source": [
    "with ProgressBar():\n",
    "    SFeddy1 = calculateSF(eddyrun_lev.isel(lev=0, time=time3y), maxcorr, shiftdim, stackdim, grid) #layer 1\n",
    "# SFeddy2 = calculateSF(eddyrun_lev.isel(lev=1, time=np.arange(3235, 3600)), maxcorr, shiftdim, stackdim, grid) #layer 2\n",
    "\n",
    "\n",
    "    # Saves data\n",
    "    SFeddy1.to_netcdf('./SFeddyrun_qg_lev1_5years_raw.nc')\n",
    "# SFeddy2.to_netcdf('./SFeddyrun_qg2_1year_10.nc')"
   ]
  },
  {
   "cell_type": "code",
   "execution_count": null,
   "id": "0c8d69f6",
   "metadata": {},
   "outputs": [],
   "source": [
    "# Ensemble averages\n",
    "mSF_eddy, _ = SFbin_xr(SFeddy1, rbins)#layer 1\n",
    "mSF_eddy = mSF_eddy.dropna(dim='rbins',how=\"all\")#layer 1\n",
    "\n",
    "# mSF_eddy2, _ = SFbin_xr(SFeddy2, rbins)#layer 2\n",
    "# mSF_eddy2 = mSF_eddy2.dropna(dim='rbins',how=\"all\")#layer 2"
   ]
  },
  {
   "cell_type": "code",
   "execution_count": null,
   "id": "193fce3d",
   "metadata": {},
   "outputs": [],
   "source": [
    "# Saves data\n",
    "mSF_eddy.to_netcdf('./SFeddyrun_qg_lev1_ensembles_10years_3a.nc')\n",
    "# mSF_eddy2.to_netcdf('./SFeddyrun_qg_ensembles2_1year.nc')"
   ]
  },
  {
   "cell_type": "markdown",
   "id": "6a3ce16e",
   "metadata": {},
   "source": [
    "## Concatenates data. \n",
    "\n",
    "##### Modify as needed"
   ]
  },
  {
   "cell_type": "code",
   "execution_count": null,
   "id": "9c518fff",
   "metadata": {},
   "outputs": [],
   "source": [
    "a= xr.open_dataset('./SFeddyrun_qg_lev1_ensembles_10years_1.nc')\n",
    "a1= xr.open_dataset('./SFeddyrun_qg_lev1_ensembles_10years_1a.nc')\n",
    "b= xr.open_dataset('./SFeddyrun_qg_lev1_ensembles_10years_2.nc')\n",
    "b1= xr.open_dataset('./SFeddyrun_qg_lev1_ensembles_10years_2a.nc')\n",
    "c= xr.open_dataset('./SFeddyrun_qg_lev1_ensembles_10years_3.nc')\n",
    "c1= xr.open_dataset('./SFeddyrun_qg_lev1_ensembles_10years_3a.nc')\n",
    "d= xr.open_dataset('./SFeddyrun_qg_lev1_ensembles_10years_4.nc')\n",
    "e= xr.open_dataset('./SFeddyrun_qg_lev1_ensembles_10years_5.nc')\n",
    "f= xr.open_dataset('./SFeddyrun_qg_lev1_ensembles_10years_6.nc')\n",
    "g= xr.open_dataset('./SFeddyrun_qg_lev1_ensembles_10years_7.nc')\n",
    "h= xr.open_dataset('./SFeddyrun_qg_lev1_ensembles_10years_8.nc')\n"
   ]
  },
  {
   "cell_type": "code",
   "execution_count": null,
   "id": "f91affa4",
   "metadata": {},
   "outputs": [],
   "source": [
    "SFeddyconf = xr.concat(([a, a1, b, b1, c, c1, d, e, f, g, h]), dim='time')\n",
    "SFeddyconf.to_netcdf('./SFeddyrun_QG_lev1_15years.nc')"
   ]
  },
  {
   "cell_type": "markdown",
   "id": "abfc9d66",
   "metadata": {},
   "source": [
    "# Calculate SF with coarser r bins"
   ]
  },
  {
   "cell_type": "code",
   "execution_count": null,
   "id": "09c659f2",
   "metadata": {},
   "outputs": [],
   "source": [
    "# Gets last five years of data\n",
    "nyears = 5\n",
    "yr = 365\n",
    "\n",
    "i1 = -2-yr*nyears\n",
    "\n",
    "time3y = np.arange(i1, i1 + yr*nyears)\n",
    "\n",
    "# Calculates structure functions\n",
    "shiftdim = 'time'\n",
    "stackdim = \"dcorr\"\n",
    "maxcorr = 60\n",
    "grid = 'm'\n",
    "\n",
    "SFeddy0 = calculateSF(eddyrun_lev.isel(lev=0, time=time3y), maxcorr, shiftdim, stackdim, grid) #layer 1"
   ]
  },
  {
   "cell_type": "markdown",
   "id": "f86a870b",
   "metadata": {},
   "source": [
    "# Runs model and saves only the last month of the 10 year run"
   ]
  },
  {
   "cell_type": "code",
   "execution_count": 14,
   "id": "b7955c28",
   "metadata": {},
   "outputs": [
    {
     "ename": "RuntimeError",
     "evalue": "Undefined plan with nthreads. This is a bug",
     "output_type": "error",
     "traceback": [
      "\u001b[0;31m---------------------------------------------------------------------------\u001b[0m",
      "\u001b[0;31mRuntimeError\u001b[0m                              Traceback (most recent call last)",
      "\u001b[0;31mRuntimeError\u001b[0m: Undefined plan with nthreads. This is a bug"
     ]
    },
    {
     "name": "stderr",
     "output_type": "stream",
     "text": [
      "Exception ignored in: 'pyfftw.pyfftw._fftw_plan_with_nthreads_null'\n",
      "Traceback (most recent call last):\n",
      "  File \"/home/mog002/miniconda3/envs/pygmt/lib/python3.11/site-packages/pyqg/model.py\", line 216, in __init__\n",
      "    PseudoSpectralKernel.__init__(self, nz, ny, nx, ntd,\n",
      "RuntimeError: Undefined plan with nthreads. This is a bug\n"
     ]
    },
    {
     "ename": "RuntimeError",
     "evalue": "Undefined plan with nthreads. This is a bug",
     "output_type": "error",
     "traceback": [
      "\u001b[0;31m---------------------------------------------------------------------------\u001b[0m",
      "\u001b[0;31mRuntimeError\u001b[0m                              Traceback (most recent call last)",
      "\u001b[0;31mRuntimeError\u001b[0m: Undefined plan with nthreads. This is a bug"
     ]
    },
    {
     "name": "stderr",
     "output_type": "stream",
     "text": [
      "Exception ignored in: 'pyfftw.pyfftw._fftw_plan_with_nthreads_null'\n",
      "Traceback (most recent call last):\n",
      "  File \"/home/mog002/miniconda3/envs/pygmt/lib/python3.11/site-packages/pyqg/model.py\", line 216, in __init__\n",
      "    PseudoSpectralKernel.__init__(self, nz, ny, nx, ntd,\n",
      "RuntimeError: Undefined plan with nthreads. This is a bug\n"
     ]
    },
    {
     "ename": "RuntimeError",
     "evalue": "Undefined plan with nthreads. This is a bug",
     "output_type": "error",
     "traceback": [
      "\u001b[0;31m---------------------------------------------------------------------------\u001b[0m",
      "\u001b[0;31mRuntimeError\u001b[0m                              Traceback (most recent call last)",
      "\u001b[0;31mRuntimeError\u001b[0m: Undefined plan with nthreads. This is a bug"
     ]
    },
    {
     "name": "stderr",
     "output_type": "stream",
     "text": [
      "Exception ignored in: 'pyfftw.pyfftw._fftw_plan_with_nthreads_null'\n",
      "Traceback (most recent call last):\n",
      "  File \"/home/mog002/miniconda3/envs/pygmt/lib/python3.11/site-packages/pyqg/model.py\", line 216, in __init__\n",
      "    PseudoSpectralKernel.__init__(self, nz, ny, nx, ntd,\n",
      "RuntimeError: Undefined plan with nthreads. This is a bug\n"
     ]
    },
    {
     "ename": "RuntimeError",
     "evalue": "Undefined plan with nthreads. This is a bug",
     "output_type": "error",
     "traceback": [
      "\u001b[0;31m---------------------------------------------------------------------------\u001b[0m",
      "\u001b[0;31mRuntimeError\u001b[0m                              Traceback (most recent call last)",
      "\u001b[0;31mRuntimeError\u001b[0m: Undefined plan with nthreads. This is a bug"
     ]
    },
    {
     "name": "stderr",
     "output_type": "stream",
     "text": [
      "Exception ignored in: 'pyfftw.pyfftw._fftw_plan_with_nthreads_null'\n",
      "Traceback (most recent call last):\n",
      "  File \"/home/mog002/miniconda3/envs/pygmt/lib/python3.11/site-packages/pyqg/model.py\", line 216, in __init__\n",
      "    PseudoSpectralKernel.__init__(self, nz, ny, nx, ntd,\n",
      "RuntimeError: Undefined plan with nthreads. This is a bug\n"
     ]
    },
    {
     "ename": "RuntimeError",
     "evalue": "Undefined plan with nthreads. This is a bug",
     "output_type": "error",
     "traceback": [
      "\u001b[0;31m---------------------------------------------------------------------------\u001b[0m",
      "\u001b[0;31mRuntimeError\u001b[0m                              Traceback (most recent call last)",
      "\u001b[0;31mRuntimeError\u001b[0m: Undefined plan with nthreads. This is a bug"
     ]
    },
    {
     "name": "stderr",
     "output_type": "stream",
     "text": [
      "Exception ignored in: 'pyfftw.pyfftw._fftw_plan_with_nthreads_null'\n",
      "Traceback (most recent call last):\n",
      "  File \"/home/mog002/miniconda3/envs/pygmt/lib/python3.11/site-packages/pyqg/model.py\", line 216, in __init__\n",
      "    PseudoSpectralKernel.__init__(self, nz, ny, nx, ntd,\n",
      "RuntimeError: Undefined plan with nthreads. This is a bug\n"
     ]
    },
    {
     "ename": "RuntimeError",
     "evalue": "Undefined plan with nthreads. This is a bug",
     "output_type": "error",
     "traceback": [
      "\u001b[0;31m---------------------------------------------------------------------------\u001b[0m",
      "\u001b[0;31mRuntimeError\u001b[0m                              Traceback (most recent call last)",
      "\u001b[0;31mRuntimeError\u001b[0m: Undefined plan with nthreads. This is a bug"
     ]
    },
    {
     "name": "stderr",
     "output_type": "stream",
     "text": [
      "Exception ignored in: 'pyfftw.pyfftw._fftw_plan_with_nthreads_null'\n",
      "Traceback (most recent call last):\n",
      "  File \"/home/mog002/miniconda3/envs/pygmt/lib/python3.11/site-packages/pyqg/model.py\", line 216, in __init__\n",
      "    PseudoSpectralKernel.__init__(self, nz, ny, nx, ntd,\n",
      "RuntimeError: Undefined plan with nthreads. This is a bug\n"
     ]
    },
    {
     "ename": "RuntimeError",
     "evalue": "Undefined plan with nthreads. This is a bug",
     "output_type": "error",
     "traceback": [
      "\u001b[0;31m---------------------------------------------------------------------------\u001b[0m",
      "\u001b[0;31mRuntimeError\u001b[0m                              Traceback (most recent call last)",
      "\u001b[0;31mRuntimeError\u001b[0m: Undefined plan with nthreads. This is a bug"
     ]
    },
    {
     "name": "stderr",
     "output_type": "stream",
     "text": [
      "Exception ignored in: 'pyfftw.pyfftw._fftw_plan_with_nthreads_null'\n",
      "Traceback (most recent call last):\n",
      "  File \"/home/mog002/miniconda3/envs/pygmt/lib/python3.11/site-packages/pyqg/model.py\", line 216, in __init__\n",
      "    PseudoSpectralKernel.__init__(self, nz, ny, nx, ntd,\n",
      "RuntimeError: Undefined plan with nthreads. This is a bug\n"
     ]
    },
    {
     "ename": "RuntimeError",
     "evalue": "Undefined plan with nthreads. This is a bug",
     "output_type": "error",
     "traceback": [
      "\u001b[0;31m---------------------------------------------------------------------------\u001b[0m",
      "\u001b[0;31mRuntimeError\u001b[0m                              Traceback (most recent call last)",
      "\u001b[0;31mRuntimeError\u001b[0m: Undefined plan with nthreads. This is a bug"
     ]
    },
    {
     "name": "stderr",
     "output_type": "stream",
     "text": [
      "Exception ignored in: 'pyfftw.pyfftw._fftw_plan_with_nthreads_null'\n",
      "Traceback (most recent call last):\n",
      "  File \"/home/mog002/miniconda3/envs/pygmt/lib/python3.11/site-packages/pyqg/model.py\", line 216, in __init__\n",
      "    PseudoSpectralKernel.__init__(self, nz, ny, nx, ntd,\n",
      "RuntimeError: Undefined plan with nthreads. This is a bug\n",
      "INFO:  Logger initialized\n",
      "INFO: Step: 5000, Time: 1.80e+07, KE: 2.85e-07, CFL: 0.023\n",
      "INFO: Step: 10000, Time: 3.60e+07, KE: 1.44e-06, CFL: 0.024\n",
      "INFO: Step: 15000, Time: 5.40e+07, KE: 1.21e-05, CFL: 0.024\n",
      "INFO: Step: 20000, Time: 7.20e+07, KE: 1.20e-04, CFL: 0.066\n",
      "INFO: Step: 25000, Time: 9.00e+07, KE: 4.36e-04, CFL: 0.186\n",
      "INFO: Step: 30000, Time: 1.08e+08, KE: 4.96e-04, CFL: 0.207\n",
      "INFO: Step: 35000, Time: 1.26e+08, KE: 5.73e-04, CFL: 0.198\n",
      "INFO: Step: 40000, Time: 1.44e+08, KE: 6.01e-04, CFL: 0.220\n",
      "INFO: Step: 45000, Time: 1.62e+08, KE: 6.10e-04, CFL: 0.262\n",
      "INFO: Step: 50000, Time: 1.80e+08, KE: 6.09e-04, CFL: 0.263\n",
      "INFO: Step: 55000, Time: 1.98e+08, KE: 5.97e-04, CFL: 0.243\n",
      "INFO: Step: 60000, Time: 2.16e+08, KE: 5.78e-04, CFL: 0.214\n",
      "INFO: Step: 65000, Time: 2.34e+08, KE: 6.70e-04, CFL: 0.246\n",
      "INFO: Step: 70000, Time: 2.52e+08, KE: 6.26e-04, CFL: 0.270\n",
      "INFO: Step: 75000, Time: 2.70e+08, KE: 6.38e-04, CFL: 0.276\n",
      "INFO: Step: 80000, Time: 2.88e+08, KE: 6.12e-04, CFL: 0.241\n",
      "INFO: Step: 85000, Time: 3.06e+08, KE: 5.93e-04, CFL: 0.223\n"
     ]
    }
   ],
   "source": [
    "# Run with snapshots\n",
    "year = 24*60*60*360. #seconds\n",
    "tmax = 86400*365*10\n",
    "tavent = tmax-86400*30\n",
    "\n",
    "def run_simulation2(m, sampling_freq, tavestart):\n",
    "    \"\"\"\n",
    "    m: pyqg model object\n",
    "    sampling_freq: frequency in numerical timesteps in which to extract dataset\n",
    "    \"\"\"\n",
    "    snapshots = []\n",
    "    while eddy_model.t < eddy_model.tmax:\n",
    "        if eddy_model.tc % sampling_freq == 0:\n",
    "            if eddy_model.t > tavestart:\n",
    "                ds=eddy_model.to_dataset().copy(deep=True)\n",
    "                snapshots.append(ds)\n",
    "        eddy_model._step_forward()\n",
    "    return snapshots\n",
    "\n",
    "eddy_model = pyqg.QGModel(nx=256.0, dt=3600.0, tmax=tmax, ntd=1, twrite=5000, \n",
    "                          tavestart=tavent, taveint= 1, \n",
    "                          beta=1.5e-11, rd=15000.0, delta=0.25, \n",
    "                          H1=500, U1=0.025, U2=0.0)\n",
    "\n",
    "# Saves snapshots\n",
    "snapshr = run_simulation2(eddy_model, 1, tavent) # Saves data \n",
    "# Convert to xarray data \n",
    "eddyrun_hr = xr.concat(snapshr, dim='time')"
   ]
  },
  {
   "cell_type": "code",
   "execution_count": 18,
   "id": "5519e830",
   "metadata": {},
   "outputs": [],
   "source": [
    "eddyrun_hr = eddyrun_hr.drop_vars([\"qh\", \"uh\", \"vh\", \"ph\", \"dqhdt\", \"Ubg\",\"Qy\", \"dqdt\", \"p\", \"ufull\", \"vfull\"])\n",
    "\n",
    "eddyrun_hr.to_netcdf('./QGModelRun1year_1hr.nc')"
   ]
  },
  {
   "cell_type": "code",
   "execution_count": null,
   "id": "8c45ea66",
   "metadata": {},
   "outputs": [],
   "source": []
  }
 ],
 "metadata": {
  "kernelspec": {
   "display_name": "Python 3 (ipykernel)",
   "language": "python",
   "name": "python3"
  },
  "language_info": {
   "codemirror_mode": {
    "name": "ipython",
    "version": 3
   },
   "file_extension": ".py",
   "mimetype": "text/x-python",
   "name": "python",
   "nbconvert_exporter": "python",
   "pygments_lexer": "ipython3",
   "version": "3.11.0"
  }
 },
 "nbformat": 4,
 "nbformat_minor": 5
}
